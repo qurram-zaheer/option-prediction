{
 "metadata": {
  "language_info": {
   "codemirror_mode": {
    "name": "ipython",
    "version": 3
   },
   "file_extension": ".py",
   "mimetype": "text/x-python",
   "name": "python",
   "nbconvert_exporter": "python",
   "pygments_lexer": "ipython3",
   "version": "3.9.2"
  },
  "orig_nbformat": 2,
  "kernelspec": {
   "name": "python392jvsc74a57bd09e03d22255ec8d137eba285ab8ec967de6659f12e9cf778d67c1dcda3ae9ee2e",
   "display_name": "Python 3.9.2 64-bit"
  }
 },
 "nbformat": 4,
 "nbformat_minor": 2,
 "cells": [
  {
   "cell_type": "code",
   "execution_count": 3,
   "metadata": {},
   "outputs": [],
   "source": [
    "import numpy as np\n",
    "import random"
   ]
  },
  {
   "cell_type": "code",
   "execution_count": 4,
   "metadata": {},
   "outputs": [
    {
     "output_type": "execute_result",
     "data": {
      "text/plain": [
       "7.02"
      ]
     },
     "metadata": {},
     "execution_count": 4
    }
   ],
   "source": [
    "# Montecarlo simulation\n",
    "random.seed(5000)# Set the random seed\n",
    "N = 1000         # Number of small sub-steps (time)\n",
    "n = 100000       # Number of Monte carlo paths\n",
    "\n",
    "S_0 = 105       # Initial stock price\n",
    "K = 100         # Strike price \n",
    "V_0 = 0.01      # Initial variance is square of volatility\n",
    "kappa = 2       # kappa mean reversion speed\n",
    "theta = 0.01    # Long-run variance\n",
    "epsilon = 0.1   # volatility of volatility\n",
    "rho = 0         # correlation \n",
    "T = 1           # time to maturity\n",
    "dt = T/N        # No. of Time step\n",
    "\n",
    "# Parameters for Heston process\n",
    "variance = 0.01 # Initial variance is square of volatility\n",
    "kappa = 2       # Speed of mean reversion \n",
    "theta = 0.01    # Long-run variance\n",
    "epsilon = 0.1   # Volatility of volatility\n",
    "rho = 0.0       # Correlation  \n",
    "\n",
    "# Integrate equations: Euler method, Montecarlo vectorized\n",
    "V_t = np.ones(n) * V_0\n",
    "S_t = np.ones(n) * S_0\n",
    "\n",
    "# Generate Montecarlo paths\n",
    "for t in range(1,N):  \n",
    "  # Random numbers for S_t and V_t \n",
    "  Z_s = np.random.normal(size=n) \n",
    "  Z_v = rho * Z_s + np.sqrt(1 - rho**2) * np.random.normal(size=n) \n",
    "\n",
    "  # Euler integration\n",
    "  V_t = np.maximum(V_t, 0)\n",
    "  S_t = S_t * np.exp( np.sqrt(V_t * dt) * Z_s - V_t * dt / 2)                     # Stock price process\n",
    "  V_t = V_t + kappa * (theta - V_t) * dt + epsilon * np.sqrt(V_t * dt) * Z_v      # Volatility process\n",
    "\n",
    "option_price = np.mean(np.maximum(S_t - K, 0))\n",
    "\n",
    "round(option_price,2)"
   ]
  },
  {
   "cell_type": "code",
   "execution_count": 5,
   "metadata": {},
   "outputs": [],
   "source": [
    "a = np.random.normal(size=10)"
   ]
  },
  {
   "cell_type": "code",
   "execution_count": 6,
   "metadata": {},
   "outputs": [
    {
     "output_type": "execute_result",
     "data": {
      "text/plain": [
       "array([ 1.2978649 , -0.01418643, -0.13455287,  0.5194005 ,  0.23847881,\n",
       "       -1.1493813 ,  0.11980256,  0.38306315, -0.12331082,  0.99809268])"
      ]
     },
     "metadata": {},
     "execution_count": 6
    }
   ],
   "source": [
    "a"
   ]
  },
  {
   "cell_type": "code",
   "execution_count": null,
   "metadata": {},
   "outputs": [],
   "source": []
  }
 ]
}